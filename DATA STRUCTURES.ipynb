{
 "cells": [
  {
   "cell_type": "markdown",
   "metadata": {},
   "source": [
    "1. Array"
   ]
  },
  {
   "cell_type": "code",
   "execution_count": 2,
   "metadata": {},
   "outputs": [
    {
     "name": "stdout",
     "output_type": "stream",
     "text": [
      "9\n",
      "[1, 2, 3, 4, 5, 6, 7, 8, 9, 10]\n",
      "array without 10 [1, 2, 3, 4, 5, 6, 7, 8, 9]\n",
      "array without 5 [1, 2, 3, 4, 5, 7, 8, 9]\n",
      "800 is not in the array\n",
      "elements currently in array:\n",
      "1\n",
      "2\n",
      "3\n",
      "4\n",
      "5\n",
      "7\n",
      "8\n",
      "9\n"
     ]
    }
   ],
   "source": [
    "array = [1,2,3,4,5,6,7,8,9]\n",
    "print(array[8])\n",
    "#print array\n",
    "\n",
    "#inserting data into array\n",
    "array.append(10)\n",
    "print(array)\n",
    "#deleting/removing data from an array \n",
    "array.remove(10)\n",
    "print(\"array without 10\",array)\n",
    "del array[5]\n",
    "print(\"array without 5\",array)\n",
    "\n",
    "#searching for an element in an array\n",
    "if 800 in array:\n",
    "    print(\"800 is in the array\")\n",
    "else:\n",
    "    print(\"800 is not in the array\")\n",
    "\n",
    "#traversing the array\n",
    "print(\"elements currently in array:\")\n",
    "for num in array:\n",
    "    print(num)\n",
    "\n",
    "    "
   ]
  },
  {
   "cell_type": "markdown",
   "metadata": {},
   "source": [
    "- 2D ARRAY"
   ]
  },
  {
   "cell_type": "code",
   "execution_count": 5,
   "metadata": {},
   "outputs": [
    {
     "name": "stdout",
     "output_type": "stream",
     "text": [
      "[[1, 2, 3], [4, 5, 6], [7, 8, 9]]\n",
      "1\n"
     ]
    }
   ],
   "source": [
    "array1 = [\n",
    "    [1,2,3],\n",
    "    [4,5,6],\n",
    "    [7,8,9]\n",
    "]\n",
    "print(array1)\n",
    "print(array1[0][0])"
   ]
  },
  {
   "cell_type": "markdown",
   "metadata": {},
   "source": [
    "2. linked list\n",
    "\n",
    " - - node: a structure that contins;\n",
    " - data: the value of the node\n",
    " - pointer: reference to the next node in the list\n",
    "\n",
    "\n",
    " head is the firstnode in the linked list and tail is the last node in the linked list"
   ]
  },
  {
   "cell_type": "code",
   "execution_count": 12,
   "metadata": {},
   "outputs": [
    {
     "name": "stdout",
     "output_type": "stream",
     "text": [
      "linked_list\n",
      "1 -> 2 -> 3 -> none\n",
      "1 -> 1.5 -> 2 -> 3 -> none\n"
     ]
    }
   ],
   "source": [
    "linked_list = {\n",
    "    0:(1,1),\n",
    "    1:(2,2),\n",
    "    2:(3,-1),\n",
    "}\n",
    "def display_linked_list():\n",
    "    index=0\n",
    "    while index != -1:\n",
    "        value,next_index=linked_list[index]\n",
    "        print(value,end=\" -> \")\n",
    "        index=next_index\n",
    "    print(\"none\")\n",
    "print(\"linked_list\")\n",
    "display_linked_list() \n",
    "\n",
    "linked_list[1] = (1.5,2)\n",
    "linked_list[2] = (2,3)\n",
    "linked_list[3] = (3,-1)\n",
    "display_linked_list()"
   ]
  }
 ],
 "metadata": {
  "kernelspec": {
   "display_name": "Python 3",
   "language": "python",
   "name": "python3"
  },
  "language_info": {
   "codemirror_mode": {
    "name": "ipython",
    "version": 3
   },
   "file_extension": ".py",
   "mimetype": "text/x-python",
   "name": "python",
   "nbconvert_exporter": "python",
   "pygments_lexer": "ipython3",
   "version": "3.12.2"
  }
 },
 "nbformat": 4,
 "nbformat_minor": 2
}
