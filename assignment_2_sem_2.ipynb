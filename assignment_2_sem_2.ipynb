{
 "cells": [
  {
   "cell_type": "markdown",
   "metadata": {},
   "source": [
    "# KISAKYE MARIA SENGENDO   B30260   S24B38/033   BSDS"
   ]
  },
  {
   "cell_type": "markdown",
   "metadata": {},
   "source": [
    "1. list operations"
   ]
  },
  {
   "cell_type": "code",
   "execution_count": 1,
   "metadata": {},
   "outputs": [
    {
     "name": "stdout",
     "output_type": "stream",
     "text": [
      "First fruit: Mango\n",
      "Last fruit: Watermelon\n",
      "Reversed list: ['Banana', 'Orange', 'Watermelon', 'Mango']\n"
     ]
    }
   ],
   "source": [
    "# Creating a list of my favorite fruits\n",
    "my_fruits = [\"Mango\", \"Pineapple\", \"Watermelon\"]\n",
    "\n",
    "# Printing the first and last fruit\n",
    "print(\"First fruit:\", my_fruits[0])\n",
    "print(\"Last fruit:\", my_fruits[-1])\n",
    "\n",
    "# Adding two more fruits to the list\n",
    "my_fruits.append(\"Orange\")\n",
    "my_fruits.append(\"Banana\")\n",
    "\n",
    "# Removing the second fruit by its index\n",
    "del my_fruits[1]  \n",
    "\n",
    "# Reversing the order of the list\n",
    "my_fruits.reverse()\n",
    "\n",
    "# Printing the updated list\n",
    "print(\"Reversed list:\", my_fruits)\n",
    "\n"
   ]
  },
  {
   "cell_type": "markdown",
   "metadata": {},
   "source": [
    "2. implementing adding and removing from a list"
   ]
  },
  {
   "cell_type": "code",
   "execution_count": 4,
   "metadata": {},
   "outputs": [
    {
     "name": "stdout",
     "output_type": "stream",
     "text": [
      "Removed: apple\n",
      "Removed: banana\n",
      "Removed: orange\n"
     ]
    }
   ],
   "source": [
    "def add_item(list_name, item):\n",
    "    \"\"\"Adds an item to the end of the given list.\"\"\"\n",
    "    list_name.append(item)\n",
    "\n",
    "def remove_item(list_name):\n",
    "    \"\"\"Removes and returns the first item from the list.\n",
    "    Returns None if the list is empty.\"\"\"\n",
    "    if not list_name:\n",
    "        return None \n",
    "    else:\n",
    "        return list_name.pop(0)\n",
    "\n",
    "# Creating an empty list\n",
    "items = []\n",
    "\n",
    "# Adding items to the list\n",
    "add_item(items, \"apple\")\n",
    "add_item(items, \"banana\")\n",
    "add_item(items, \"orange\")\n",
    "\n",
    "# Removing and print items\n",
    "while items:\n",
    "    item = remove_item(items)\n",
    "    if item:\n",
    "        print(f\"Removed: {item}\")\n",
    "    else:\n",
    "        print(\"List is empty.\")\n",
    "\n"
   ]
  },
  {
   "cell_type": "markdown",
   "metadata": {},
   "source": [
    "3. dictionary operations"
   ]
  },
  {
   "cell_type": "code",
   "execution_count": 7,
   "metadata": {},
   "outputs": [
    {
     "name": "stdout",
     "output_type": "stream",
     "text": [
      "Fiction books: ['Pride and Prejudice', 'The Hunger Games', 'The Great Gatsby', 'The Alchemist']\n",
      "Genre: Fiction\n",
      "Books: ['Pride and Prejudice', 'The Hunger Games', 'The Great Gatsby', 'The Alchemist']\n",
      "\n",
      "Genre: Non-Fiction\n",
      "Books: ['In Cold Blood']\n",
      "\n"
     ]
    }
   ],
   "source": [
    "# Creating a dictionary for a library\n",
    "library = {\n",
    "    \"Fiction\": [\"Pride and Prejudice\", \"1984\", \"The Hunger Games\", \"The Great Gatsby\"],\n",
    "    \"Non-Fiction\": [\"Into the wild\", \"In Cold Blood\"]\n",
    "}\n",
    "\n",
    "# Adding a new book to a genre\n",
    "library[\"Fiction\"].append(\"The Alchemist\")\n",
    "\n",
    "# Removing a book from a genre\n",
    "library[\"Non-Fiction\"].remove(\"Into the wild\")\n",
    "\n",
    "library[\"Fiction\"].remove(\"1984\")\n",
    "\n",
    "# Printing all books in a specific genre\n",
    "print(\"Fiction books:\", library[\"Fiction\"])\n",
    "\n",
    "# Printing all keys and values\n",
    "for genre, books in library.items():\n",
    "    print(f\"Genre: {genre}\")\n",
    "    print(\"Books:\", books)\n",
    "    print()\n"
   ]
  },
  {
   "cell_type": "markdown",
   "metadata": {},
   "source": [
    "4. nested dictionary: creating and accessing data"
   ]
  },
  {
   "cell_type": "code",
   "execution_count": 9,
   "metadata": {},
   "outputs": [
    {
     "name": "stdout",
     "output_type": "stream",
     "text": [
      "Top-level keys: ['Uganda']\n",
      "Second-level keys under 'Uganda': ['Wakiso']\n",
      "Third-level keys under 'Wakiso': ['Entebbe']\n",
      "Neighborhoods in 'Entebbe':\n",
      "Kigo\n",
      "Akright\n"
     ]
    }
   ],
   "source": [
    "# Creating a nested dictionary to represent a hierarchical location structure\n",
    "locations = {\n",
    "    \"Uganda\": {\n",
    "        \"Wakiso\": {\n",
    "            \"Entebbe\": [\"Kigo\", \"Akright\"]\n",
    "        }\n",
    "    }\n",
    "}\n",
    "\n",
    "# Printing top-level keys\n",
    "print(\"Top-level keys:\", list(locations.keys()))\n",
    "\n",
    "# Printing second-level keys under 'Uganda'\n",
    "print(\"Second-level keys under 'Uganda':\", list(locations[\"Uganda\"].keys()))\n",
    "\n",
    "# Printing third-level keys under 'Wakiso'\n",
    "print(\"Third-level keys under 'Wakiso':\", list(locations[\"Uganda\"][\"Wakiso\"].keys()))\n",
    "\n",
    "# Printing neighborhoods in 'Entebbe'\n",
    "print(\"Neighborhoods in 'Entebbe':\")\n",
    "for neighborhood in locations[\"Uganda\"][\"Wakiso\"][\"Entebbe\"]:\n",
    "    print(neighborhood)\n",
    "\n"
   ]
  }
 ],
 "metadata": {
  "kernelspec": {
   "display_name": "Python 3",
   "language": "python",
   "name": "python3"
  },
  "language_info": {
   "codemirror_mode": {
    "name": "ipython",
    "version": 3
   },
   "file_extension": ".py",
   "mimetype": "text/x-python",
   "name": "python",
   "nbconvert_exporter": "python",
   "pygments_lexer": "ipython3",
   "version": "3.12.2"
  }
 },
 "nbformat": 4,
 "nbformat_minor": 2
}
