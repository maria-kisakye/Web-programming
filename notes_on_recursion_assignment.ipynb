{
 "cells": [
  {
   "cell_type": "markdown",
   "metadata": {},
   "source": [
    "# KISAKYE MARIA SENGENDO   B30260   S24B38/033"
   ]
  },
  {
   "cell_type": "markdown",
   "metadata": {},
   "source": [
    "1. Introduction to recursion\n",
    "\n",
    "Recursion is a situation in programming where by a function to call itself repeatedly until it solves a particular problem.\n",
    "\n",
    "\n",
    "The differences between a recursion and an iteration are:\n",
    "- in iteration, the function only runs until a certain condition is met, while in recursion, the funtion calls itself until the base case is met.\n",
    "- in iteration, the function does not have a base case but a condition, while in recursion, the function has one.\n",
    "- in iteration, the function does not have a recursive call, while in recursion, the function has a recursive call.\n",
    "\n",
    "\n",
    "The key properties of a recursive function are:\n",
    "- the function must have a base case, which is the condition that stops the recursion.\n",
    "- the function must have a recursive case, which is the condition that calls the function again.\n",
    "\n",
    "\n",
    "How Does Recursion Utilize Memory and what is the role of a call stack\n",
    "Each recursive call creates a new stack frame in memory to store the function's local variables and state.\n",
    "The call stack keeps track of all active function calls.\n",
    "If recursion goes too deep (e.g., no base case or too many calls), it can lead to a stack overflow.\n",
    "\n",
    "\n",
    "Why is a Base Condition Necessary?\n",
    "The base condition stops the recursion. Without it, the function would keep calling itself indefinitely, leading to infinite recursion and a stack overflow.\n",
    "It provides a simple, non-recursive solution to the smallest version of the problem.\n",
    "\n",
    "\n",
    "Advantages of Recursion\n",
    "- Elegant Code: Simplifies code for problems that can be divided into similar subproblems (e.g., tree traversal, Fibonacci).\n",
    "- Readability: Often easier to understand and write for certain problems.\n",
    "- Natural Fit: Works well for problems with recursive structures (e.g., file systems, mathematical sequences).\n",
    "\n",
    "\n",
    "Disadvantages of Recursion\n",
    "- Memory Usage: Each recursive call consumes memory on the call stack, which can lead to stack overflow for deep recursion.\n",
    "- Performance: Slower than iteration due to function call overhead.\n",
    "- Debugging: Harder to debug because of multiple nested function calls.\n",
    "\n",
    "\n",
    "When Should Recursion Be Used Instead of Iteration?\n",
    "\n",
    "Use recursion when:\n",
    "- The problem can be naturally divided into similar subproblems (e.g., tree traversal, divide-and-conquer algorithms).\n",
    "- The code is simpler and more readable with recursion.\n",
    "- The depth of recursion is manageable (not too deep).\n",
    "\n",
    "Use iteration when:\n",
    "- Performance and memory efficiency are critical.\n",
    "- The problem can be solved easily with loops.\n",
    "- The recursion depth is too large, risking a stack overflow."
   ]
  },
  {
   "cell_type": "markdown",
   "metadata": {},
   "source": [
    "2. Recursive Problems with Explanations, Code, and Complexity Analysis"
   ]
  },
  {
   "cell_type": "markdown",
   "metadata": {},
   "source": [
    "2.1  Factorial Calculation\n",
    "\n",
    "- How is the Factorial of a Number Defined Mathematically?\n",
    "The factorial of a non-negative integer n ,(denoted as n!), is the product of all positive integers less than or equal to \n",
    "n. It is defined as: n! = n × (n−1) × (n−2) × ⋯ × 2 × 1.\n",
    "\n",
    "Special Case: 0! = 1 (by definition).\n",
    "\n",
    "Examples:\n",
    "- 5! = 5 × 4 × 3 × 2 × 1 = 120\n",
    "- 3! = 3 × 2 × 1 = 6\n",
    "\n",
    "\n",
    "- How Can Factorial Be Implemented Using Recursion?\n",
    "Recursion is a natural fit for factorial calculation because the problem can be broken down into smaller subproblems:\n",
    "n! = n × (n−1)!\n",
    "Base Case: 0! = 1 (by definition)\n",
    "\n",
    "Recursive Case: n! = n × (n−1)!"
   ]
  },
  {
   "cell_type": "code",
   "execution_count": 1,
   "metadata": {},
   "outputs": [
    {
     "name": "stdout",
     "output_type": "stream",
     "text": [
      "120\n"
     ]
    }
   ],
   "source": [
    "# How Can Factorial Be Implemented Using Recursion\n",
    "def factorial(n):\n",
    "    if n == 0:  # Base case\n",
    "        return 1\n",
    "    return n * factorial(n - 1)\n",
    "print(factorial(5))"
   ]
  },
  {
   "cell_type": "code",
   "execution_count": null,
   "metadata": {},
   "outputs": [
    {
     "name": "stdout",
     "output_type": "stream",
     "text": [
      "120\n"
     ]
    }
   ],
   "source": [
    "# How Can Factorial Be Implemented Iteratively\n",
    "def factorial_iterative(n):\n",
    "    result = 1\n",
    "    for i in range(1, n + 1):  # Loop from 1 to n\n",
    "        result *= i\n",
    "    return result\n",
    "\n",
    "print(factorial_iterative(5))"
   ]
  },
  {
   "cell_type": "markdown",
   "metadata": {},
   "source": [
    "What is the Time Complexity of Both Recursive and Iterative Implementations?\n",
    "Time Complexity: Both recursive and iterative implementations have a time complexity of O(n), where \n",
    "n is the input number.\n",
    "\n",
    "This is because both approaches perform \n",
    "n multiplications."
   ]
  },
  {
   "cell_type": "markdown",
   "metadata": {},
   "source": [
    "What Are the Space Requirements for the Recursive and Iterative Approaches?\n",
    "Recursive Approach:\n",
    "\n",
    "Space Complexity is O(n) due to the call stack.\n",
    "Each recursive call adds a new stack frame, consuming memory.\n",
    "For large n, this can lead to a stack overflow.\n",
    "\n",
    "Iterative Approach:\n",
    "Space Complexity is O(1) (constant space).\n",
    "\n",
    "Only a few variables (e.g., result, loop counter) are used, regardless of n."
   ]
  },
  {
   "cell_type": "markdown",
   "metadata": {},
   "source": [
    "2.2 Fibonacci Series\n",
    "\n",
    "What is the Fibonacci Sequence?\n",
    "\n",
    "The Fibonacci sequence is a series of numbers where each number is the sum of the two preceding ones, starting from 0 and 1. Mathematically, it is defined as:\n",
    "  F(n)=F(n−1)+F(n−2) \n",
    "with base cases:\n",
    "  F(0)=0,F(1)=1\n"
   ]
  },
  {
   "cell_type": "code",
   "execution_count": 11,
   "metadata": {},
   "outputs": [
    {
     "name": "stdout",
     "output_type": "stream",
     "text": [
      "3\n"
     ]
    }
   ],
   "source": [
    "# How Can Fibonacci Numbers Be Generated Using Recursion?\n",
    "def fibonacci(n):\n",
    "    if n == 0:\n",
    "        return 0\n",
    "    elif n == 1:\n",
    "        return 1\n",
    "    else:\n",
    "        return fibonacci(n-1) + fibonacci(n-2)\n",
    "    \n",
    "print(fibonacci(4))"
   ]
  },
  {
   "cell_type": "markdown",
   "metadata": {},
   "source": [
    "What Are the Inefficiencies of the Naive Recursive Approach?\n",
    "\n",
    "- Exponential Time Complexity: The time complexity is O(2**n) because each call branches into two more calls, leading to repeated calculations.\n",
    "- Redundant Calculations: The same Fibonacci numbers are computed multiple times. For example, F(3) is computed multiple times when calculating F(5).\n",
    "- High Memory Usage: The call stack grows exponentially, leading to high memory usage and potential stack overflow for large n."
   ]
  },
  {
   "cell_type": "markdown",
   "metadata": {},
   "source": [
    "How Can Fibonacci Numbers Be Computed Efficiently Using Memoization?\n",
    "- Memoization is a technique to optimize recursion by storing the results of expensive function calls and reusing them when the same inputs occur again. This avoids redundant calculations."
   ]
  },
  {
   "cell_type": "code",
   "execution_count": 5,
   "metadata": {},
   "outputs": [
    {
     "name": "stdout",
     "output_type": "stream",
     "text": [
      "55\n"
     ]
    }
   ],
   "source": [
    "def fibonacci_memoization(n, memo={}):\n",
    "    if n in memo:  # Check if result is already computed\n",
    "        return memo[n]\n",
    "    if n == 0:  # Base case\n",
    "        return 0\n",
    "    elif n == 1:  # Base case\n",
    "        return 1\n",
    "    else:\n",
    "        memo[n] = fibonacci_memoization(n - 1, memo) + fibonacci_memoization(n - 2, memo)  # Store result\n",
    "        return memo[n]\n",
    "    \n",
    "print (fibonacci_memoization(10))  "
   ]
  },
  {
   "cell_type": "markdown",
   "metadata": {},
   "source": [
    "What is the Time Complexity of the Recursive, Iterative, and Memoized Solutions?\n",
    "\n",
    "Naive Recursive Approach:\n",
    "- Time Complexity: O(2**n) (exponential).\n",
    "- Space Complexity: O(n) (call stack depth).\n",
    "\n",
    "Iterative Approach:\n",
    "- Time Complexity: O(n) (linear).\n",
    "- Space Complexity: O(1) (constant space).\n",
    "\n",
    "Memoized Recursive Approach:\n",
    "- Time Complexity: O(n) (each Fibonacci number is computed once).\n",
    "- Space Complexity: O(n) (to store results in the memo dictionary)."
   ]
  },
  {
   "cell_type": "markdown",
   "metadata": {},
   "source": [
    "2.5 Checking for Palindromes\n",
    "• What is a palindrome?\n",
    "A palindrome is a word, phrase, number, or other sequence of characters that reads the same forward and backward (ignoring spaces, punctuation, and capitalization).\n",
    "\n",
    "Examples:\n",
    "\n",
    "Words: \"madam\", \"racecar\"\n",
    "\n",
    "Phrases: \"A man, a plan, a canal, Panama!\"\n",
    "\n",
    "Numbers: 121, 1331"
   ]
  },
  {
   "cell_type": "markdown",
   "metadata": {},
   "source": [
    "How Can a String Be Checked for Being a Palindrome Using Recursion?\n",
    "Recursion can be used to check if a string is a palindrome by comparing characters from the start and end, moving toward the center."
   ]
  },
  {
   "cell_type": "code",
   "execution_count": 6,
   "metadata": {},
   "outputs": [
    {
     "name": "stdout",
     "output_type": "stream",
     "text": [
      "True\n",
      "False\n",
      "True\n"
     ]
    }
   ],
   "source": [
    "def is_palindrome(s):\n",
    "    # Base case: if the string has 0 or 1 characters, it's a palindrome\n",
    "    if len(s) <= 1:\n",
    "        return True\n",
    "    \n",
    "    # Check if first and last characters match\n",
    "    if s[0] != s[-1]:\n",
    "        return False\n",
    "    \n",
    "    # Recursively check the middle substring\n",
    "    return is_palindrome(s[1:-1])\n",
    "\n",
    "# Example usage\n",
    "print(is_palindrome(\"racecar\"))  # Output: True\n",
    "print(is_palindrome(\"hello\"))    # Output: False\n",
    "print(is_palindrome(\"madam\"))  # Output: True"
   ]
  },
  {
   "cell_type": "markdown",
   "metadata": {},
   "source": [
    "What is the Base Condition in a Recursive Palindrome Check?\n",
    "\n",
    "The base condition is when the string is empty or has one character:\n",
    "\n",
    "If the string is empty (len(s) == 0) or has one character (len(s) == 1), it is a palindrome.\n",
    "\n",
    "This stops the recursion."
   ]
  },
  {
   "cell_type": "code",
   "execution_count": 9,
   "metadata": {},
   "outputs": [
    {
     "name": "stdout",
     "output_type": "stream",
     "text": [
      "True\n",
      "False\n",
      "True\n"
     ]
    }
   ],
   "source": [
    "#How Can the Same Problem Be Solved Iteratively?\n",
    "#An iterative approach uses a loop to compare characters from the start and end, moving toward the center.\n",
    "\n",
    "def is_palindrome_iterative(s):\n",
    "    left = 0\n",
    "    right = len(s) - 1\n",
    "\n",
    "    while left < right:\n",
    "        if s[left] != s[right]:\n",
    "            return False\n",
    "        left += 1\n",
    "        right -= 1\n",
    "    return True\n",
    "\n",
    "# Example usage (same as your example, for easy comparison)\n",
    "print(is_palindrome_iterative(\"racecar\"))  # Output: True\n",
    "print(is_palindrome_iterative(\"hello\"))    # Output: False\n",
    "print(is_palindrome_iterative(\"madam\"))  # Output: True"
   ]
  },
  {
   "cell_type": "markdown",
   "metadata": {},
   "source": [
    "What is the Time Complexity of Both Approaches?\n",
    "\n",
    "Recursive Approach:\n",
    "- Time Complexity: O(n), where n is the length of the string.\n",
    "- Each recursive call processes one pair of characters.\n",
    "- Space Complexity: O(n) due to the call stack.\n",
    "\n",
    "Iterative Approach:\n",
    "- Time Complexity: O(n), where n is the length of the string.\n",
    "- The loop processes each character once.\n",
    "- Space Complexity: O(1) (constant space)."
   ]
  },
  {
   "cell_type": "markdown",
   "metadata": {},
   "source": [
    "3. Memory Usage in Recursion\n",
    "\n",
    "- How is Recursion Handled in Memory?\n",
    "\n",
    "When a recursive function is called, the following happens in memory:\n",
    "\n",
    "Call Stack: Each recursive call creates a new stack frame on the call stack.\n",
    "\n",
    "Stack Frame: A stack frame stores:\n",
    "\n",
    "-The function's local variables.\n",
    "\n",
    "-The return address (where to continue after the function call).\n",
    "\n",
    "-The parameters passed to the function.\n",
    "\n",
    "Memory Allocation: Each recursive call consumes memory for its stack frame.\n",
    "\n",
    "Stack Unwinding: When the base case is reached, the stack frames are removed one by one, and the results are returned."
   ]
  },
  {
   "cell_type": "markdown",
   "metadata": {},
   "source": [
    "- What Happens When Too Many Recursive Calls Are Made?\n",
    "\n",
    "If too many recursive calls are made:\n",
    "\n",
    "Stack Overflow: The call stack exceeds its maximum size, leading to a stack overflow error.\n",
    "\n",
    "Memory Exhaustion: Each recursive call consumes memory, and excessive recursion can exhaust available memory.\n",
    "\n",
    "Program Crash: The program may crash or terminate unexpectedly."
   ]
  },
  {
   "cell_type": "markdown",
   "metadata": {},
   "source": [
    "- What is the Recursion Limit in Python, and How Can It Be Modified?\n",
    "\n",
    "Python has a default recursion limit to prevent stack overflow.\n",
    "\n",
    "The limit can be checked and modified using the sys module."
   ]
  },
  {
   "cell_type": "code",
   "execution_count": 10,
   "metadata": {},
   "outputs": [
    {
     "name": "stdout",
     "output_type": "stream",
     "text": [
      "3000\n"
     ]
    }
   ],
   "source": [
    "import sys\n",
    "\n",
    "# Check the recursion limit\n",
    "print(sys.getrecursionlimit())  # Default is usually 1000\n",
    "\n",
    "# Set a new recursion limit\n",
    "sys.setrecursionlimit(2000)\n",
    "\n",
    "#Note: Increasing the recursion limit can lead to a stack overflow if the system runs out of memory"
   ]
  },
  {
   "cell_type": "markdown",
   "metadata": {},
   "source": [
    "- What is Tail Recursion, and Why is It Not Optimized in Python?\n",
    "\n",
    "Tail Recursion: A recursive function is tail-recursive if the recursive call is the last operation in the function.\n",
    "\n",
    "Key Characteristics of Tail Recursion:\n",
    "\n",
    "-The recursive call is the last action in the function.\n",
    "\n",
    "-There is no pending operation after the recursive call returns.\n",
    "\n",
    "-The result of the recursive call is directly returned.\n",
    "\n",
    "Optimization: In some languages (e.g., Scheme, Haskell), tail recursion is optimized to reuse the same stack frame, avoiding stack overflow. It  is optimized through a technique called tail call optimization (TCO). TCO reuses the current stack frame for the next recursive call, avoiding the creation of new stack frames and preventing stack overflow.\n",
    "\n",
    "Python: Python does not optimize tail recursion. Each recursive call still creates a new stack frame. Itis not used in python because:\n",
    "\n",
    "-The language designers chose not to implement TCO to keep the language implementation simpler and more predictable.\n",
    "\n",
    "-TCO would eliminate stack frames, making it harder to trace the call stack and debug recursive functions.\n",
    "\n",
    "-Python encourages the use of iteration (loops) for repetitive tasks, as it is more memory-efficient and avoids the risk of stack overflow.\n",
    "\n",
    "-Python's dynamic nature (e.g., dynamic typing, first-class functions) makes it harder to implement TCO efficiently."
   ]
  },
  {
   "cell_type": "markdown",
   "metadata": {},
   "source": [
    "- How Can Recursion Be Converted into Iteration to Avoid Excessive Memory Usage?\n",
    "\n",
    "To avoid excessive memory usage, recursion can be converted into iteration using loops and explicit data structures (e.g., stacks).\n",
    "\n",
    "Steps to Convert Recursion to Iteration:\n",
    "\n",
    "-Identify the Base Case: Translate the base case into the loop's exit condition.\n",
    "\n",
    "-Use a Loop: Replace recursive calls with a loop.\n",
    "\n",
    "-Manage State: Use variables or a stack to keep track of the state."
   ]
  },
  {
   "cell_type": "markdown",
   "metadata": {},
   "source": [
    "4. Advantages and Disadvantages of Recursion"
   ]
  },
  {
   "cell_type": "markdown",
   "metadata": {},
   "source": [
    "• In what situations is recursion more readable than loops?\n",
    "\n",
    "Recursion is often more readable and intuitive than loops in situations where the problem can be naturally divided into smaller, similar subproblems.\n",
    "\n",
    "-Recursion simplifies traversing hierarchical structures like trees and graphs.\n",
    "\n",
    "-Problems like merge sort, quicksort, and binary search are easier to implement recursively.\n",
    "\n",
    "-Recursion is natural for problems like Fibonacci, factorials, and Tower of Hanoi."
   ]
  },
  {
   "cell_type": "markdown",
   "metadata": {},
   "source": [
    "• What are the risks of using recursion in terms of performance and memory?\n",
    "\n",
    "Performance: Recursion can be slower than iteration due to the overhead of function calls.\n",
    "\n",
    "Example: The naive recursive Fibonacci implementation has exponential time complexity (O(2**n)).\n",
    "\n",
    "Memory: Each recursive call consumes memory on the call stack.\n",
    "Deep recursion can lead to stack overflow (exceeding the call stack limit).\n",
    "\n",
    "Redundant Calculations: Without optimization (e.g., memoization), recursive functions may repeat calculations.\n",
    "\n",
    "Example: In the naive Fibonacci implementation, F(3) is computed multiple times."
   ]
  },
  {
   "cell_type": "markdown",
   "metadata": {},
   "source": [
    "• What factors should be considered when deciding between recursion and\n",
    "iteration?\n",
    "\n",
    "Problem Structure: \n",
    "\n",
    "-Use recursion for problems that can be divided into similar subproblems (e.g., tree traversal, divide and conquer).\n",
    "\n",
    "-Use iteration for problems that involve simple repetition (e.g., summing an array).\n",
    "\n",
    "Readability:\n",
    "\n",
    "-Recursion can make code more readable for certain problems.\n",
    "\n",
    "-Iteration is often simpler for straightforward tasks.\n",
    "\n",
    "Performance:\n",
    "\n",
    "-Iteration is generally faster and more memory-efficient.\n",
    "\n",
    "-Recursion can be optimized with techniques like memoization or tail recursion (in languages that support it).\n",
    "\n",
    "Memory Constraints:\n",
    "\n",
    "-Recursion can lead to stack overflow for deep recursion.\n",
    "\n",
    "-Iteration is safer for problems with large input sizes.\n",
    "\n",
    "Language Support:\n",
    "\n",
    "Some languages (e.g., Python) do not optimize tail recursion, making iteration a better choice for deep recursion."
   ]
  },
  {
   "cell_type": "markdown",
   "metadata": {},
   "source": [
    "5. Conclusion"
   ]
  },
  {
   "cell_type": "markdown",
   "metadata": {},
   "source": [
    "• What are the key takeaways from learning recursion?\n",
    "\n",
    "-Recursion is a Powerful Tool:\n",
    "\n",
    "It simplifies solving problems that can be broken into smaller, similar subproblems.\n",
    "\n",
    "It is especially useful for tree traversal, divide and conquer, and mathematical sequences.\n",
    "\n",
    "-Base Case is Crucial:\n",
    "\n",
    "Every recursive function must have a base case to stop the recursion.\n",
    "\n",
    "Without a base case, recursion leads to infinite loops and stack overflow.\n",
    "\n",
    "-Performance and Memory Trade-offs:\n",
    "\n",
    "Recursion can be slower and use more memory than iteration.\n",
    "\n",
    "Techniques like memoization and tail recursion can optimize recursion.\n",
    "\n",
    "-Iteration is Often Safer:\n",
    "\n",
    "Iteration is more memory-efficient and avoids stack overflow.\n",
    "\n",
    "It is preferred for problems with large input sizes or deep recursion.\n",
    "\n",
    "-Choose the Right Tool:\n",
    "\n",
    "Use recursion when it makes the code more readable and the problem structure fits.\n",
    "\n",
    "Use iteration for performance-critical or memory-constrained scenarios.\n",
    "\n"
   ]
  },
  {
   "cell_type": "markdown",
   "metadata": {},
   "source": [
    "- In What Real-World Applications is Recursion Commonly Used?\n",
    "\n",
    "i) File System Traversal:\n",
    "\n",
    "Recursion is used to navigate directories and subdirectories.\n",
    "\n",
    "Example: Listing all files in a folder and its subfolders.\n",
    "\n",
    "ii) Parsing and Syntax Analysis:\n",
    "\n",
    "Recursion is used in compilers and interpreters to parse nested structures (e.g., JSON, XML).\n",
    "\n",
    "iii) Artificial Intelligence:\n",
    "\n",
    "Recursion is used in algorithms like Depth-First Search (DFS) for exploring decision trees or game states.\n",
    "\n",
    "iv) Mathematical Computations:\n",
    "\n",
    "Recursion is used in algorithms for factorials, Fibonacci sequences, and Tower of Hanoi.\n",
    "\n",
    "v) Graphics and Rendering:\n",
    "\n",
    "Recursion is used in fractal generation and rendering algorithms.\n",
    "\n",
    "vi) Backtracking Algorithms:\n",
    "\n",
    "Recursion is used in problems like solving Sudoku, the N-Queens problem, and generating permutations.\n",
    "\n"
   ]
  }
 ],
 "metadata": {
  "kernelspec": {
   "display_name": "Python 3",
   "language": "python",
   "name": "python3"
  },
  "language_info": {
   "codemirror_mode": {
    "name": "ipython",
    "version": 3
   },
   "file_extension": ".py",
   "mimetype": "text/x-python",
   "name": "python",
   "nbconvert_exporter": "python",
   "pygments_lexer": "ipython3",
   "version": "3.12.2"
  }
 },
 "nbformat": 4,
 "nbformat_minor": 2
}
