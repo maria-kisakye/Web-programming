{
 "cells": [
  {
   "cell_type": "markdown",
   "metadata": {},
   "source": [
    "KISAKYE MARIA SENGENDO  B30260  S24B38/033  BSDS"
   ]
  },
  {
   "cell_type": "markdown",
   "metadata": {},
   "source": [
    "NOTES ON SEARCHING AND SORTING ALGORITHMS"
   ]
  },
  {
   "cell_type": "markdown",
   "metadata": {},
   "source": [
    "1. Linear Search\n",
    "\n",
    "- What it is: A method to find an element in a list by checking each element one by one.\n",
    "\n",
    "How it works:\n",
    "\n",
    "-Start from the first element.\n",
    "\n",
    "-Compare it with the target element.\n",
    "\n",
    "-If it matches, return the position.\n",
    "\n",
    "-If not, move to the next element.\n",
    "\n",
    "-Repeat until the element is found or the list ends.\n",
    "\n",
    "Time Complexity Analysis:\n",
    "\n",
    "-Best-case: O(1) (target is the first element).\n",
    "\n",
    "-Worst-case: O(n) (target is the last element or not present).\n",
    "\n",
    "-Average-case: O(n).\n",
    "\n",
    "Use case: Works on both sorted and unsorted lists, but slow for large datasets."
   ]
  },
  {
   "cell_type": "code",
   "execution_count": 24,
   "metadata": {},
   "outputs": [
    {
     "name": "stdout",
     "output_type": "stream",
     "text": [
      "Element found at index 4\n"
     ]
    }
   ],
   "source": [
    "def linear_search(arr, target):\n",
    "    for i in range(len(arr)):  # Step through each element\n",
    "        if arr[i] == target:   # Compare with target\n",
    "            return i           # Return index if found\n",
    "    return -1                  # Return -1 if not found\n",
    "\n",
    "arr = [10, 20, 30, 40, 50]\n",
    "target = 50\n",
    "result = linear_search(arr, target)\n",
    "\n",
    "if result != -1:\n",
    "    print(f\"Element found at index {result}\")\n",
    "else:\n",
    "    print(\"Element not found\")"
   ]
  },
  {
   "cell_type": "markdown",
   "metadata": {},
   "source": [
    "2. Binary Search\n",
    "- What it is: A faster search algorithm that works on sorted lists.\n",
    "\n",
    "How it works:\n",
    "\n",
    "-Find the middle element of the list by dividing the list size by 2.\n",
    "\n",
    "-Compare it with the target element.\n",
    "\n",
    "-If it matches, return the position.\n",
    "\n",
    "-If the target is smaller, search the left half by dividing by 2 again.\n",
    "\n",
    "-If the target is larger, search the right half by dividing by 2 again.\n",
    "\n",
    "-Repeat until the element is found or the list is exhausted.\n",
    "\n",
    "Time Complexity Analysis:\n",
    "\n",
    "-Best-case: O(1) (target is the middle element).\n",
    "\n",
    "-Worst-case: O(log n).\n",
    "\n",
    "-Average-case: O(log n).\n",
    "\n",
    "Use case: Efficient for large sorted datasets."
   ]
  },
  {
   "cell_type": "code",
   "execution_count": 25,
   "metadata": {},
   "outputs": [
    {
     "name": "stdout",
     "output_type": "stream",
     "text": [
      "Element found at index 2\n"
     ]
    }
   ],
   "source": [
    "# recursive Approach\n",
    "def binary_search_recursive(arr, low, high, target):\n",
    "    if low > high:\n",
    "        return -1  # Target not found\n",
    "\n",
    "    mid = (low + high) // 2\n",
    "\n",
    "    if arr[mid] == target:# Target found\n",
    "        return mid\n",
    "    elif arr[mid] < target:# Target is in the right half\n",
    "        return binary_search_recursive(arr, mid + 1, high, target)\n",
    "    else:\n",
    "        return binary_search_recursive(arr, low, mid - 1, target)\n",
    "\n",
    "arr = [10, 20, 30, 40, 50]\n",
    "target = 30\n",
    "result = binary_search_recursive(arr, 0, len(arr) - 1, target)# Start with low=0 and high=len(arr)-1\n",
    "\n",
    "if result != -1:# Target found\n",
    "    print(f\"Element found at index {result}\")\n",
    "else:\n",
    "    print(\"Element not found\")\n"
   ]
  },
  {
   "cell_type": "markdown",
   "metadata": {},
   "source": [
    "3. Bubble Sort\n",
    "- What it is: A simple sorting algorithm that repeatedly swaps adjacent elements if they are in the wrong order.\n",
    "\n",
    "How it works:\n",
    "\n",
    "-Start from the first element.\n",
    "\n",
    "-Compare it with the next element.\n",
    "\n",
    "-If they are out of order, swap them.\n",
    "\n",
    "-Move to the next pair including the last element from the previous pair and repeat.\n",
    "\n",
    "-After each pass, the largest unsorted element \"bubbles up\" to its correct position.\n",
    "\n",
    "-Repeat until the entire list is sorted.\n",
    "\n",
    "Time Complexity Analysis:\n",
    "\n",
    "-Best-case: O(n) (already sorted).\n",
    "\n",
    "-Worst-case: O(n²).\n",
    "\n",
    "-Average-case: O(n²).\n",
    "\n",
    "Use case: Easy to understand but inefficient for large datasets."
   ]
  },
  {
   "cell_type": "code",
   "execution_count": 26,
   "metadata": {},
   "outputs": [
    {
     "name": "stdout",
     "output_type": "stream",
     "text": [
      "Sorted array: [5, 12, 12, 21, 24, 37, 52, 66, 94]\n"
     ]
    }
   ],
   "source": [
    "my_array = [66, 52, 37, 21, 12, 24, 12, 94, 5]# Bubble sort\n",
    "\n",
    "n = len(my_array)# Traverse through all array elements\n",
    "for i in range(n-1):# Last i elements are already in place\n",
    "    for j in range(n-i-1):# Traverse the array from 0 to n-i-1\n",
    "        if my_array[j] > my_array[j+1]:# Swap if the element found is greater\n",
    "            my_array[j], my_array[j+1] = my_array[j+1], my_array[j]# Swap\n",
    "\n",
    "print(\"Sorted array:\", my_array)# Driver code to test above"
   ]
  },
  {
   "cell_type": "markdown",
   "metadata": {},
   "source": [
    "4. Selection Sort\n",
    "- What it is: A sorting algorithm that repeatedly finds the smallest (or largest) element and places it in its correct position.\n",
    "\n",
    "How it works:\n",
    "\n",
    "-Find the smallest element in the unsorted part of the list.\n",
    "\n",
    "-Swap it with the first unsorted element.\n",
    "\n",
    "-Move the boundary of the sorted part one step forward.\n",
    "\n",
    "-Repeat until the entire list is sorted.\n",
    "\n",
    "Time Complexity Analysis:\n",
    "\n",
    "-Best-case: O(n²).\n",
    "\n",
    "-Worst-case: O(n²).\n",
    "\n",
    "-Average-case: O(n²).\n",
    "\n",
    "Use case: Simple but inefficient for large datasets."
   ]
  },
  {
   "cell_type": "code",
   "execution_count": 27,
   "metadata": {},
   "outputs": [
    {
     "name": "stdout",
     "output_type": "stream",
     "text": [
      "Sorted array: [5, 12, 12, 21, 24, 37, 52, 66, 94]\n"
     ]
    }
   ],
   "source": [
    "def selection_sort(arr):\n",
    "    n = len(arr)# Traverse through all array elements\n",
    "    for i in range(n):# Find the minimum element in the remaining unsorted array\n",
    "        min_index = i  # Assume the first element is the minimum\n",
    "        for j in range(i + 1, n):# Traverse the array from i+1 to n\n",
    "            if arr[j] < arr[min_index]:  # Find the smallest element\n",
    "                min_index = j# Swap the found minimum element with the first element\n",
    "        \n",
    "        arr[i], arr[min_index] = arr[min_index], arr[i]  # Swap\n",
    "\n",
    "# Example usage\n",
    "arr = [66, 52, 37, 21, 12, 24, 12, 94, 5]\n",
    "selection_sort(arr)\n",
    "print(\"Sorted array:\", arr)\n"
   ]
  },
  {
   "cell_type": "markdown",
   "metadata": {},
   "source": [
    "5. Insertion Sort\n",
    "- What it is: A sorting algorithm that builds the sorted list one element at a time by inserting each element in its correct position.\n",
    "\n",
    "How it works:\n",
    "\n",
    "-Start with the second element.\n",
    "\n",
    "-Compare it with the elements before it.\n",
    "\n",
    "-Shift the larger elements to the right to make space.\n",
    "\n",
    "-Insert the element in its correct position.\n",
    "\n",
    "-Repeat for all elements.\n",
    "\n",
    "Time Complexity Analysis:\n",
    "\n",
    "-Best-case: O(n) (already sorted).\n",
    "\n",
    "-Worst-case: O(n²).\n",
    "\n",
    "-Average-case: O(n²).\n",
    "\n",
    "Use case: Efficient for small or nearly sorted datasets."
   ]
  },
  {
   "cell_type": "code",
   "execution_count": 28,
   "metadata": {},
   "outputs": [
    {
     "name": "stdout",
     "output_type": "stream",
     "text": [
      "Sorted array: [5, 12, 12, 21, 24, 37, 52, 66, 94]\n"
     ]
    }
   ],
   "source": [
    "my_array = [66, 52, 37, 21, 12, 24, 12, 94, 5]         #insertion sort\n",
    "\n",
    "n = len(my_array)# Traverse through all array elements\n",
    "for i in range(1,n):# Traverse the array from 1 to n\n",
    "    insert_index = i# Move elements of my_array[0..i-1], that are greater than current_value, to one position ahead of their current position\n",
    "    current_value = my_array.pop(i)# Store the current value to be placed at the correct position\n",
    "    for j in range(i-1, -1, -1):# Move elements of my_array[0..i-1], that are greater than current_value, to one position ahead of their current position\n",
    "        if my_array[j] > current_value:# Move elements of my_array[0..i-1], that are greater than current_value, to one position ahead of their current position\n",
    "            insert_index = j# Move elements of my_array[0..i-1], that are greater than current_value, to one position ahead of their current position\n",
    "    my_array.insert(insert_index, current_value)\n",
    "\n",
    "print(\"Sorted array:\", my_array)\n"
   ]
  },
  {
   "cell_type": "markdown",
   "metadata": {},
   "source": [
    "6. Merge Sort\n",
    "- What it is: A divide-and-conquer sorting algorithm that splits the list into smaller parts, sorts them, and then merges them back together.\n",
    "\n",
    "How it works:\n",
    "\n",
    "- Divide: Split the list into two halves.\n",
    "\n",
    "- Conquer: Recursively sort each half.\n",
    "\n",
    "- Combine: Merge the two sorted halves into one sorted list.\n",
    "\n",
    "-Compare elements from both halves.\n",
    "\n",
    "-Add the smaller element to the result.\n",
    "\n",
    "-Repeat until all elements are merged.\n",
    "\n",
    "Time Complexity Analysis:\n",
    "\n",
    "-Best-case: O(n log n).\n",
    "\n",
    "-Worst-case: O(n log n).\n",
    "\n",
    "-Average-case: O(n log n).\n",
    "\n",
    "Space Complexity: O(n) (requires extra space for merging).\n",
    "\n",
    "Use case: Efficient for large datasets and works well with linked lists."
   ]
  },
  {
   "cell_type": "code",
   "execution_count": 29,
   "metadata": {},
   "outputs": [
    {
     "name": "stdout",
     "output_type": "stream",
     "text": [
      "Sorted Array: [3, 9, 10, 27, 38, 43, 82]\n"
     ]
    }
   ],
   "source": [
    "def merge_sort(arr):\n",
    "    if len(arr) <= 1:  # Base case\n",
    "        return arr\n",
    "    mid = len(arr) // 2  # Find mid\n",
    "    left = merge_sort(arr[:mid])  # Sort left half\n",
    "    right = merge_sort(arr[mid:])  # Sort right half\n",
    "    return merge(left, right)  # Merge two halves\n",
    "\n",
    "def merge(left, right):\n",
    "    result = []\n",
    "    i = j = 0\n",
    "    while i < len(left) and j < len(right):  # Merge two sorted lists\n",
    "        if left[i] < right[j]:\n",
    "            result.append(left[i])\n",
    "            i += 1\n",
    "        else:\n",
    "            result.append(right[j])\n",
    "            j += 1\n",
    "    result.extend(left[i:])  # Add remaining elements\n",
    "    result.extend(right[j:])\n",
    "    return result\n",
    "\n",
    "arr = [38, 27, 43, 3, 9, 82, 10]\n",
    "sorted_arr = merge_sort(arr)\n",
    "print(\"Sorted Array:\", sorted_arr)"
   ]
  },
  {
   "cell_type": "markdown",
   "metadata": {},
   "source": [
    "7. Quick Sort\n",
    "- What it is: A divide-and-conquer sorting algorithm that picks a \"pivot\" element and partitions the list into two parts: elements smaller than the pivot and elements larger than the pivot.\n",
    "\n",
    "How it works:\n",
    "\n",
    "-Choose a Pivot: Select an element (e.g., first, last, or middle element) as the pivot.\n",
    "\n",
    "-Partition: Rearrange the list so that:\n",
    "\n",
    "-Elements smaller than the pivot are on the left.\n",
    "\n",
    "-Elements larger than the pivot are on the right.\n",
    "\n",
    "-Recursively Sort: Apply Quick Sort to the left and right partitions.\n",
    "\n",
    "Time Complexity Analysis:\n",
    "\n",
    "-Best-case: O(n log n).\n",
    "\n",
    "-Worst-case: O(n²) (if pivot is poorly chosen).\n",
    "\n",
    "-Average-case: O(n log n).\n",
    "\n",
    "Space Complexity: O(log n) (due to recursion stack).\n",
    "\n",
    "Use case: Fast and efficient for large datasets, widely used in practice."
   ]
  },
  {
   "cell_type": "code",
   "execution_count": 30,
   "metadata": {},
   "outputs": [
    {
     "name": "stdout",
     "output_type": "stream",
     "text": [
      "Sorted array: [5, 12, 12, 21, 24, 37, 52, 66, 94]\n"
     ]
    }
   ],
   "source": [
    "\n",
    "def partition(array, low, high):# This function takes the last element as pivot, places the pivot element at its correct position in the sorted array, and places all smaller (smaller than pivot) to the left of the pivot and all greater elements to the right of the pivot\n",
    "    pivot = array[high]# Index of smaller element\n",
    "    i = low - 1# Traverse through all array elements\n",
    "\n",
    "    for j in range(low, high):# If the current element is smaller than the pivot\n",
    "        if array[j] <= pivot:# Increment index of smaller element\n",
    "            i += 1\n",
    "            array[i], array[j] = array[j], array[i]# Swap\n",
    "\n",
    "    array[i+1], array[high] = array[high], array[i+1]# Swap\n",
    "    return i+1# Return the partitioning index\n",
    "\n",
    "def quicksort(array, low=0, high=None):# The main function that implements QuickSort\n",
    "    if high is None:# Set the default value of high\n",
    "        high = len(array) - 1# Check if the low and high are valid\n",
    "\n",
    "    if low < high:# pi is partitioning index, array[p] is now at right place\n",
    "        pivot_index = partition(array, low, high)# Separately sort elements before partition and after partition\n",
    "        quicksort(array, low, pivot_index-1)# Separately sort elements before partition and after partition\n",
    "        quicksort(array, pivot_index+1, high)# Driver code to test above\n",
    "\n",
    "my_array = [66, 52, 37, 21, 12, 24, 12, 94, 5] \n",
    "quicksort(my_array)\n",
    "print(\"Sorted array:\", my_array)\n"
   ]
  },
  {
   "cell_type": "markdown",
   "metadata": {},
   "source": [
    " Final Comparison Summary\n",
    "|Algorithm | Best-case | Worst-case\t| Average-case\t| Space Complexity\t| Stable?  |  When to Use |\n",
    "|----------|------------|-------------|----------------|---------------------|-----------|---------------|\n",
    "|Linear Search | O(1)  |  O(n) | O(n) | O(1)\t| -\t| Small or unsorted lists|\n",
    "|Binary Search | O(1) | O(log n)\t| O(log n)\t| O(1)\t| -\t| Large sorted lists|\n",
    "|Bubble Sort | O(n)\t| O(n²)\t| O(n²)\t| O(1)\t| Yes\t| Small datasets|\n",
    "|Insertion Sort\t| O(n)\t| O(n²)\t| O(n²)\t| O(1)\t| Yes\t| Small or nearly sorted datasets|\n",
    "|Selection Sort\t| O(n²)\t| O(n²)\t| O(n²)\t| O(1)\t| No\t| Small datasets with no duplicates|\n",
    "|Quick Sort\t| O(n log n) | O(n²) | O(n log n) | O(log n) | No\t| Large datasets|\n",
    "|Merge Sort\t| O(n log n) | O(n log n) | O(n log n)\t| O(n)\t| Yes | Large datasets or stable sorting|"
   ]
  }
 ],
 "metadata": {
  "kernelspec": {
   "display_name": "Python 3",
   "language": "python",
   "name": "python3"
  },
  "language_info": {
   "codemirror_mode": {
    "name": "ipython",
    "version": 3
   },
   "file_extension": ".py",
   "mimetype": "text/x-python",
   "name": "python",
   "nbconvert_exporter": "python",
   "pygments_lexer": "ipython3",
   "version": "3.12.2"
  }
 },
 "nbformat": 4,
 "nbformat_minor": 2
}
