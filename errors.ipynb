{
 "cells": [
  {
   "cell_type": "markdown",
   "metadata": {},
   "source": [
    "*Importing Libraries*\n",
    "- numpy: Used for numerical operations, such as generating random data.\n",
    "- scipy.stats: Provides statistical functions, including the t-test.\n",
    "- matplotlib.pyplot: Used for plotting graphs."
   ]
  },
  {
   "cell_type": "code",
   "execution_count": 1,
   "metadata": {},
   "outputs": [],
   "source": [
    "import numpy as np\n",
    "import scipy.stats as stats\n",
    "import matplotlib.pyplot as plt"
   ]
  },
  {
   "cell_type": "markdown",
   "metadata": {},
   "source": [
    "Ensures reproducibility. The random numbers generated will be the same every time the code is run."
   ]
  },
  {
   "cell_type": "code",
   "execution_count": 2,
   "metadata": {},
   "outputs": [],
   "source": [
    "# Set random seed for reproducibility\n",
    "np.random.seed(42)"
   ]
  },
  {
   "cell_type": "markdown",
   "metadata": {},
   "source": [
    "Defining the parameters\n",
    "\n",
    "- sample_size: Number of observations in each group.\n",
    "- effect_size: The true difference between the means of the two groups. Here, it’s set to 0.5.\n",
    "- alpha: The significance level (probability threshold for rejecting the null hypothesis). Commonly set to 0.05.\n",
    "- num_simulations: Number of times the experiment is repeated to estimate error rates."
   ]
  },
  {
   "cell_type": "code",
   "execution_count": 3,
   "metadata": {},
   "outputs": [],
   "source": [
    "# Parameters\n",
    "sample_size = 30  # Sample size for each group\n",
    "effect_size = 0.5  # Effect size (difference between groups)\n",
    "alpha = 0.05  # Significance level\n",
    "num_simulations = 1000  # Number of simulations to run"
   ]
  },
  {
   "cell_type": "markdown",
   "metadata": {},
   "source": [
    "- We perform an independent t-test to compare the means of two groups.\n",
    "- Input: Two arrays (group1 and group2).\n",
    "- Output: The p-value, which indicates the probability of observing the data if the null hypothesis is true."
   ]
  },
  {
   "cell_type": "code",
   "execution_count": 4,
   "metadata": {},
   "outputs": [],
   "source": [
    "# Function to perform a t-test and return p-value\n",
    "def perform_ttest(group1, group2):\n",
    "    t_stat, p_value = stats.ttest_ind(group1, group2)\n",
    "    return p_value"
   ]
  },
  {
   "cell_type": "markdown",
   "metadata": {},
   "source": [
    "*Steps:*\n",
    "- Generate two groups from the same distribution (no true effect).\n",
    "- Perform a t-test to compare the groups.\n",
    "- Count how often the p-value is less than alpha (incorrectly rejecting the null hypothesis).\n",
    "- Calculate the Type I error rate as the proportion of false positives."
   ]
  },
  {
   "cell_type": "code",
   "execution_count": 5,
   "metadata": {},
   "outputs": [],
   "source": [
    "# Simulate Type I Error (False Positive)\n",
    "def simulate_type1_error():\n",
    "    type1_errors = 0\n",
    "    for _ in range(num_simulations):\n",
    "        # Generate two samples from the same distribution (no effect)\n",
    "        group1 = np.random.normal(loc=0, scale=1, size=sample_size)\n",
    "        group2 = np.random.normal(loc=0, scale=1, size=sample_size)\n",
    "        \n",
    "        # Perform t-test\n",
    "        p_value = perform_ttest(group1, group2)\n",
    "        \n",
    "        # Check for Type I error\n",
    "        if p_value < alpha:\n",
    "            type1_errors += 1\n",
    "    \n",
    "    type1_error_rate = type1_errors / num_simulations\n",
    "    return type1_error_rate"
   ]
  },
  {
   "cell_type": "markdown",
   "metadata": {},
   "source": [
    "*Steps:*\n",
    "- Generate two groups with a true effect (different means).\n",
    "- Perform a t-test to compare the groups.\n",
    "- Count how often the p-value is greater than or equal to alpha (failing to reject the null hypothesis when it’s false).\n",
    "- Calculate the Type II error rate as the proportion of false negatives."
   ]
  },
  {
   "cell_type": "code",
   "execution_count": 6,
   "metadata": {},
   "outputs": [],
   "source": [
    "# Simulate Type II Error (False Negative)\n",
    "def simulate_type2_error():\n",
    "    type2_errors = 0\n",
    "    for _ in range(num_simulations):\n",
    "        # Generate two samples with a true effect (different means)\n",
    "        group1 = np.random.normal(loc=0, scale=1, size=sample_size)\n",
    "        group2 = np.random.normal(loc=effect_size, scale=1, size=sample_size)\n",
    "        \n",
    "        # Perform t-test\n",
    "        p_value = perform_ttest(group1, group2)\n",
    "        \n",
    "        # Check for Type II error\n",
    "        if p_value >= alpha:\n",
    "            type2_errors += 1\n",
    "    \n",
    "    type2_error_rate = type2_errors / num_simulations\n",
    "    return type2_error_rate"
   ]
  },
  {
   "cell_type": "markdown",
   "metadata": {},
   "source": [
    "We run the simulations to estimate Type I and Type II error rates."
   ]
  },
  {
   "cell_type": "code",
   "execution_count": 7,
   "metadata": {},
   "outputs": [],
   "source": [
    "# Run simulations\n",
    "type1_error_rate = simulate_type1_error()\n",
    "type2_error_rate = simulate_type2_error()"
   ]
  },
  {
   "cell_type": "code",
   "execution_count": 8,
   "metadata": {},
   "outputs": [
    {
     "name": "stdout",
     "output_type": "stream",
     "text": [
      "Type I Error Rate: 0.0410\n",
      "Type II Error Rate: 0.5050\n"
     ]
    }
   ],
   "source": [
    "# Output results\n",
    "print(f\"Type I Error Rate: {type1_error_rate:.4f}\")\n",
    "print(f\"Type II Error Rate: {type2_error_rate:.4f}\")"
   ]
  },
  {
   "cell_type": "markdown",
   "metadata": {},
   "source": [
    "We then visualize the error rates using a bar plot."
   ]
  },
  {
   "cell_type": "code",
   "execution_count": 11,
   "metadata": {},
   "outputs": [
    {
     "data": {
      "image/png": "[encoded data removed]",
      "text/plain": [
       "<Figure size 640x480 with 1 Axes>"
      ]
     },
     "metadata": {},
     "output_type": "display_data"
    }
   ],
   "source": [
    "# Plotting the results\n",
    "labels = ['Type I Error', 'Type II Error']\n",
    "rates = [type1_error_rate, type2_error_rate]\n",
    "plt.bar(labels, rates, color=['yellow', 'green'])\n",
    "plt.ylabel('Error Rate')\n",
    "plt.title('Type I and Type II Error Rates')\n",
    "plt.ylim(0, 1)\n",
    "plt.show()"
   ]
  }
 ],
 "metadata": {
  "kernelspec": {
   "display_name": "Python 3",
   "language": "python",
   "name": "python3"
  },
  "language_info": {
   "codemirror_mode": {
    "name": "ipython",
    "version": 3
   },
   "file_extension": ".py",
   "mimetype": "text/x-python",
   "name": "python",
   "nbconvert_exporter": "python",
   "pygments_lexer": "ipython3",
   "version": "3.12.2"
  }
 },
 "nbformat": 4,
 "nbformat_minor": 2
}
